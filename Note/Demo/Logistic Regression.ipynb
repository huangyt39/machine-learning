{
 "cells": [
  {
   "cell_type": "markdown",
   "metadata": {},
   "source": [
    "## Logistic Regression"
   ]
  },
  {
   "cell_type": "markdown",
   "metadata": {},
   "source": [
    "研究人员对使用雌激素与子宫内膜癌发病间的关系进行了1:1配对的病例对照研究。病例与对照按年龄相近、婚姻状况相同、生活的社区相同进行了配对。收集了年龄、雌激素药使用、胆囊病史、高血压和非雌激素药使用的数据。变量定义及具体数据如下：\n",
    "\n",
    "match：配比组\n",
    "\n",
    "case：case=1病例；case=0对照（未发病）\n",
    "\n",
    "est：est=1使用过雌激素；est=0未使用雌激素；\n",
    "\n",
    "gall：gall=1有胆囊病史；gall=0无胆囊病史；\n",
    "\n",
    "hyper：hyper=1有高血压；hyper=0无高血压；\n",
    "\n",
    "nonest：nonest=1使用过非雌激素；nonest=0未使用过非雌激素；\n"
   ]
  },
  {
   "cell_type": "markdown",
   "metadata": {},
   "source": [
    "Match|\tCase\t|Est|\tGall|\tHyper|\tNonest\n",
    "--|--|--|--|--|--\n",
    "1\t|1\t|1\t|1\t|0\t|1\n",
    "1\t|0\t|0\t|1\t|0\t|0\n",
    "2\t|1\t|1\t|0\t|1\t|1\n",
    "2\t|0\t|0\t|0\t|0\t|1\n",
    "3\t|1\t|1\t|1\t|0\t|1\n",
    "3\t|0\t|1\t|0\t|1\t|1\n",
    "4\t|1\t|1\t|0\t|0\t|0\n",
    "4\t|0\t|1\t|0\t|1\t|1\n",
    "5\t|1\t|1\t|0\t|1\t|1\n",
    "5\t|0\t|0\t|0\t|0\t|0\n",
    "6\t|1\t|1\t|1\t|0\t|1\n",
    "6\t|0\t|0\t|0\t|0\t|0\n",
    "7\t|1\t|1\t|0\t|0\t|1\n",
    "7\t|0\t|0\t|0\t|0\t|0\n",
    "8\t|1\t|1\t|1\t|1\t|1\n",
    "8\t|0\t|0\t|0\t|1\t|1\n",
    "9\t|1\t|1\t|0\t|0\t|1\n",
    "9\t|0\t|1\t|0\t|0\t|1\n",
    "10\t|1\t|0\t|0\t|0\t|1\n",
    "10\t|0\t|0\t|0\t|0\t|1\n",
    "11\t|1\t|1\t|0\t|1\t|1\n",
    "11\t|0\t|1\t|0\t|1\t|1\n",
    "12\t|1\t|0\t|0\t|0\t|1\n",
    "12\t|0\t|0\t|0\t|1\t|1\n",
    "13\t|1\t|1\t|0\t|1\t|1\n",
    "13\t|0\t|0\t|0\t|0\t|0\n",
    "14\t|1\t|1\t|0\t|0\t|1\n",
    "14\t|0\t|0\t|0\t|0\t|0\n",
    "15\t|1\t|1\t|0\t|1\t|1\n",
    "15\t|0\t|1\t|0\t|0\t|1\n",
    "16\t|1\t|1\t|0\t|0\t|1\n",
    "16\t|0\t|1\t|0\t|1\t|1\n",
    "17\t|1\t|1\t|0\t|0\t|1\n",
    "17\t|0\t|0\t|0\t|0\t|0\n",
    "18\t|1\t|0\t|1\t|0\t|1\n",
    "18\t|0\t|0\t|0\t|1\t|0\n",
    "19\t|1\t|1\t|1\t|0\t|1\n",
    "19\t|0\t|1\t|1\t|0\t|0\n",
    "20\t|1\t|1\t|0\t|0\t|0\n",
    "20\t|0\t|1\t|0\t|1\t|1\n"
   ]
  },
  {
   "cell_type": "markdown",
   "metadata": {},
   "source": [
    " - 调用逻辑回归函数或实现求解L2逻辑回归分析的梯度下降算法，求出最优的逻辑回归模型；"
   ]
  },
  {
   "cell_type": "markdown",
   "metadata": {},
   "source": [
    " - 尝试找出对影响子宫内膜癌发病的最直接的因素；"
   ]
  },
  {
   "cell_type": "markdown",
   "metadata": {},
   "source": [
    " - \t编程实现求解L2正则化逻辑回归分析的梯度下降算法，并求出正则化平衡系数λ为1时的最优正则化逻辑回归模型。"
   ]
  }
 ],
 "metadata": {
  "kernelspec": {
   "display_name": "Python 3",
   "language": "python",
   "name": "python3"
  },
  "language_info": {
   "codemirror_mode": {
    "name": "ipython",
    "version": 3
   },
   "file_extension": ".py",
   "mimetype": "text/x-python",
   "name": "python",
   "nbconvert_exporter": "python",
   "pygments_lexer": "ipython3",
   "version": "3.6.6"
  }
 },
 "nbformat": 4,
 "nbformat_minor": 2
}
