{
 "cells": [
  {
   "cell_type": "markdown",
   "metadata": {},
   "source": [
    "## Principal Component Analysis"
   ]
  },
  {
   "cell_type": "markdown",
   "metadata": {},
   "source": [
    "通过MATLAB命令load('yale_face.mat')读取数据，包含一个4096×165矩阵。（请注意，这里的矩阵X是课件第21页定义的数据矩阵X的转置。）此矩阵的每一列是由一张64×64的灰度人脸图像所转成的4096维向量，即每一4096维列向量是一个训练样本，特征的维数是n=4096，样本的个数是m=165。例如，可以使用imshow(reshape(X(:,1),[64 64]),[])命令显示第一张人脸图像（第一个训练样本）。"
   ]
  },
  {
   "cell_type": "markdown",
   "metadata": {},
   "source": [
    " - \t试使用MATLAB中的svd函数实现PCA算法，即输入数据矩阵X和降维后的维数k，对每一个样本进行去中心化，然后对进行去中心化后的数据矩阵Xc用svd函数[U,S,V] = svd(Xc)，输出降维的投影矩阵Ureduce（即U的前k列），降维后的坐标表示Z=Ureduce’*Xc，训练样本均值μ。并令k=5，显示样本均值μ的图像和Ureduce的五个列向量（即协方差矩阵的前五个特征向量）所对应的图像；"
   ]
  },
  {
   "cell_type": "markdown",
   "metadata": {},
   "source": [
    " - 试对协方差矩阵使用MATLAB中的eig函数计算特征值和特征向量，即[U,D]=eig(Xc*Xc’/m)，显示前五个最大的特征向量所对应的图像，并比较对数据矩阵使用svd函数的所得出的特征向量的图像与运算时间；"
   ]
  },
  {
   "cell_type": "markdown",
   "metadata": {},
   "source": [
    " - \t试计算当降维后的维数分别是10和100时，保留的方差的比例（即1-(∑_(i=1)^m▒‖x^((i) )-x_approx^((i) ) ‖^2 )/(∑_(i=1)^m▒‖x^((i) ) ‖^2 )或使用（1）中的S计算∑_(i=1)^k▒S_ii^2 /∑_(i=1)^m▒S_ii^2 或使用（2）中的D计算∑_(i=1)^k▒D_ii^  /∑_(i=1)^m▒D_ii^  ），并分别利用10维和100维坐标恢复原高维空间中的人脸图像，对前三张人脸图像，对比原图和两张恢复的图像。"
   ]
  }
 ],
 "metadata": {
  "kernelspec": {
   "display_name": "Python 3",
   "language": "python",
   "name": "python3"
  },
  "language_info": {
   "codemirror_mode": {
    "name": "ipython",
    "version": 3
   },
   "file_extension": ".py",
   "mimetype": "text/x-python",
   "name": "python",
   "nbconvert_exporter": "python",
   "pygments_lexer": "ipython3",
   "version": "3.6.6"
  }
 },
 "nbformat": 4,
 "nbformat_minor": 2
}
