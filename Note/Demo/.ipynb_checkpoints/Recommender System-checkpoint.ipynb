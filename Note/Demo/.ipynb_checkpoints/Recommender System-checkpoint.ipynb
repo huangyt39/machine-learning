{
 "cells": [
  {
   "cell_type": "markdown",
   "metadata": {},
   "source": [
    "## Recommender System"
   ]
  },
  {
   "cell_type": "markdown",
   "metadata": {},
   "source": [
    "考虑以下的8个用户（A-H）对7部电影评级（1到5级）的一个效用矩阵："
   ]
  },
  {
   "cell_type": "markdown",
   "metadata": {},
   "source": [
    ".|A|\tB|\tC|\tD|\tE\t|F\t|G\t|H\n",
    "    --|--|--|--|--|--|--|--|--\n",
    "HP1\t|4|\t4|\t.|\t.\t|1\t|5\t| .|.\n",
    "HP2\t|5|\t5|\t.|  1 |\t\t.|.| .|.\n",
    "HP3\t|.| 4|1|.|\t.|1|5\t|4\n",
    "TW\t|5|\t.|2\t|5\t|.|1\t|2\t| .\n",
    "SW1\t|1|\t.|5\t|4\t|5\t|\t.|1\n",
    "SW2\t|1|\t.|5\t|.|.|\t4  |\t.| .\n",
    "SW3|.|\t1|\t.|5\t|.|5\t|1\t| ."
   ]
  },
  {
   "cell_type": "markdown",
   "metadata": {},
   "source": [
    "电影的名字HP1、HP2、HP3分别代表《哈利波特》（Harry Potter）I、II、III，TW代表《暮光之城》（Twilight），SW1、SW2和SW3分别代表《星球大战》（Star Wars）I、II、III。"
   ]
  },
  {
   "cell_type": "markdown",
   "metadata": {},
   "source": [
    " - \t试实现协同过滤算法（Collaborative ﬁltering algorithm，课件第19页，不需要进行去均值操作），令正则化参数λ=0.1，特征向量维数n=4，学习率α=0.01，分别计算描述电影特征的7×4矩阵X和预测用户评级的8×4模型参数矩阵Θ（定义见课件第23页，所得结果保留小数点后4位），并计算预测电影评级的7×8效用矩阵即XΘ^'（保留小数点后1位）；\n"
   ]
  },
  {
   "cell_type": "markdown",
   "metadata": {},
   "source": [
    " - \t试计算（1）中预测的电影评级与真实评级的平方误差，即∑_((i,j): r(i,j)=1)▒((θ^((j) ) )^T x^((i) )-y^((i,j) ) )^2 ，其中r(i,j),y^((i,j) ),θ^((j) ),x^((i) )的定义见课件第7页；讨论哪两部电影和HP1最相似，哪两部电影和和SW1最相似；"
   ]
  },
  {
   "cell_type": "markdown",
   "metadata": {},
   "source": [
    " - 试使用一个非零常数对协同过滤算法中的变量x^((1) ),…,x^((n_m ) ),θ^((1) ),…,θ^((n_u ) )进行初始化（即更改课件第19页Collaborative ﬁltering algorithm的第一步为x^((1) )=⋯=x^((n_m ) )=θ^((1) )=⋯=θ^((n_u ) )=c1，其中c为非零实数，1为所有元素都是1的n=4维列向量；使用（1）中相同的参数，分别计算描述电影特征的7×4矩阵X和预测用户评级的8×4模型参数矩阵Θ（所得结果保留小数点后4位），并计算预测电影评级的7×8效用矩阵即XΘ^'（保留小数点后1位）和预测的电影评级与真实评级的平方误差，即∑_((i,j): r(i,j)=1)▒((θ^((j) ) )^T x^((i) )-y^((i,j) ) )^2 ；与（1）和（2）中的结果比较，讨论此初始化方法的问题。"
   ]
  }
 ],
 "metadata": {
  "kernelspec": {
   "display_name": "Python 3",
   "language": "python",
   "name": "python3"
  },
  "language_info": {
   "codemirror_mode": {
    "name": "ipython",
    "version": 3
   },
   "file_extension": ".py",
   "mimetype": "text/x-python",
   "name": "python",
   "nbconvert_exporter": "python",
   "pygments_lexer": "ipython3",
   "version": "3.6.6"
  }
 },
 "nbformat": 4,
 "nbformat_minor": 2
}
