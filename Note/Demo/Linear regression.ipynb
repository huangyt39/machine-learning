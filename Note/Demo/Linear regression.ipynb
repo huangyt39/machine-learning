{
 "cells": [
  {
   "cell_type": "markdown",
   "metadata": {},
   "source": [
    "## Linear regression"
   ]
  },
  {
   "cell_type": "markdown",
   "metadata": {},
   "source": [
    "某班主任为了了解本班同学的数学和其他科目考试成绩间关系，在某次阶段性测试中，他在全班学生中随机抽取1个容量为5的样本进行分析。"
   ]
  },
  {
   "cell_type": "markdown",
   "metadata": {},
   "source": [
    "该样本中5位同学的数学和其他科目成绩对应如下表：\n",
    "\n",
    "\n",
    "学生编号\t|1\t| 2 | 3\t| 4\t| 5\n",
    "-- | -- | -- | -- | -- | -- |\n",
    "数学分数m\t| 89\t| 91\t| 93\t| 95 | 97\n",
    "物理分数p\t| 87\t| 89\t| 89\t| 92 | 93\n",
    "语文分数c\t| 72\t| 76\t| 74\t| 71 | 76\n",
    "英语分数e\t| 83\t| 88\t| 82\t| 91 | 89\n",
    "化学分数ch\t| 90\t| 93\t| 91\t| 89 | 94\n",
    "\n",
    "利用以上数据，建立m与其他变量的多元线性回归方程，并回答下列问题：\n"
   ]
  },
  {
   "cell_type": "markdown",
   "metadata": {},
   "source": [
    "- 在线性回归中，利用梯度下降法，令参数向量θ^0初始值全为0，学习率α为1，算出经过第一次迭代后的参数向量θ^1；"
   ]
  },
  {
   "cell_type": "code",
   "execution_count": 80,
   "metadata": {},
   "outputs": [
    {
     "name": "stdout",
     "output_type": "stream",
     "text": [
      "prameter:  [  93.  8376.  6864.6 8059.8 8501.8]\n"
     ]
    }
   ],
   "source": [
    "import numpy as np\n",
    "import matplotlib.pyplot as plt\n",
    "\n",
    "train = np.array([[1,87,72,83,90],[1,89,76,88,93],[1,89,74,82,91],[1,92,71,91,89],[1,93,76,89,94]])\n",
    "result = np.array([89,91,93,95,97])\n",
    "\n",
    "prameter = np.array([0.0]*5)\n",
    "learnrate = 1\n",
    "newprameter = np.array([0.0]*5)\n",
    "\n",
    "J = []\n",
    "for time in range(1):\n",
    "    Jtmp, Jdertmp = 0, [0]*5\n",
    "    for i in range(5):\n",
    "        for j in range(5):\n",
    "            Jdertmp[i] += (np.dot(train[j],prameter.T) - result[j])*train[j][i]/5\n",
    "        newprameter[i] = prameter[i] - learnrate*Jdertmp[i]\n",
    "        Jtmp += (np.dot(train[j],prameter.T) - result[j])**2/(2*5)\n",
    "    J.append(Jtmp)\n",
    "    prameter = np.array(newprameter)\n",
    "J = np.array(J)\n",
    "print(\"prameter: \", prameter)"
   ]
  },
  {
   "cell_type": "markdown",
   "metadata": {},
   "source": [
    " - \t讨论（1）中所算出的θ^1是否可以使线性回归中的代价函数J(θ)下降，即J(θ^1 )<J(θ^0 )；"
   ]
  },
  {
   "cell_type": "code",
   "execution_count": 81,
   "metadata": {},
   "outputs": [
    {
     "name": "stdout",
     "output_type": "stream",
     "text": [
      "J0:  4704.5 J1:  3968209318612.5\n"
     ]
    }
   ],
   "source": [
    "J = [J[0]]\n",
    "for time in range(1):\n",
    "    Jtmp, Jdertmp = 0, [0]*5\n",
    "    for i in range(5):\n",
    "        for j in range(5):\n",
    "            Jdertmp[i] += (np.dot(train[j],prameter.T) - result[j])*train[j][i]/5\n",
    "        newprameter[i] = prameter[i] - learnrate*Jdertmp[i]\n",
    "        Jtmp += (np.dot(train[j],prameter.T) - result[j])**2/(2*5)\n",
    "    J.append(Jtmp)\n",
    "    prameter = np.array(newprameter)\n",
    "J = np.array(J)\n",
    "print(\"J0: \", J[0], \"J1: \", J[1])"
   ]
  },
  {
   "cell_type": "markdown",
   "metadata": {},
   "source": [
    " - \t讨论是否可以选取更佳的学习率α，经过第一次迭代后，使代价函数J(θ)下降得更快；"
   ]
  },
  {
   "cell_type": "code",
   "execution_count": 74,
   "metadata": {},
   "outputs": [
    {
     "data": {
      "image/png": "[encoded data removed]",
      "text/plain": [
       "<Figure size 432x288 with 1 Axes>"
      ]
     },
     "metadata": {
      "needs_background": "light"
     },
     "output_type": "display_data"
    }
   ],
   "source": [
    "import numpy as np\n",
    "import matplotlib.pyplot as plt\n",
    "\n",
    "train = np.array([[1,87,72,83,90],[1,89,76,88,93],[1,89,74,82,91],[1,92,71,91,89],[1,93,76,89,94]])\n",
    "result = np.array([89,91,93,95,97])\n",
    "\n",
    "prameter = np.array([0.0]*5)\n",
    "learnrate = 0.00001\n",
    "newprameter = np.array([0.0]*5)\n",
    "\n",
    "J = []\n",
    "for time in range(40):\n",
    "    Jtmp, Jdertmp = 0, [0]*5\n",
    "    for i in range(5):\n",
    "        for j in range(5):\n",
    "            Jdertmp[i] += (np.dot(train[j],prameter.T) - result[j])*train[j][i]/5\n",
    "        newprameter[i] = prameter[i] - learnrate*Jdertmp[i]\n",
    "        Jtmp += (np.dot(train[j],prameter.T) - result[j])**2/(2*5)\n",
    "    J.append(Jtmp)\n",
    "    prameter = np.array(newprameter)\n",
    "J = np.array(J)\n",
    "\n",
    "plt.scatter(np.arange(40), J[:40])\n",
    "plt.xlabel('number of iterations')\n",
    "plt.ylabel('J')\n",
    "plt.show()"
   ]
  },
  {
   "cell_type": "markdown",
   "metadata": {},
   "source": [
    " - 利用标准方程求出最优的多元线性回归方程（系数精确到0.01），并预测该班物理分数88、语文分数73、英语分数87、化学分数92同学的数学分数。"
   ]
  },
  {
   "cell_type": "code",
   "execution_count": 93,
   "metadata": {},
   "outputs": [
    {
     "name": "stdout",
     "output_type": "stream",
     "text": [
      "prameter:  [[-19.5      1.6875   0.375   -0.3125  -0.4375]]\n"
     ]
    }
   ],
   "source": [
    "import numpy as np\n",
    "import matplotlib.pyplot as plt\n",
    "\n",
    "train = np.mat([[1,87,72,83,90],[1,89,76,88,93],[1,89,74,82,91],[1,92,71,91,89],[1,93,76,89,94]])\n",
    "result = np.mat([89,91,93,95,97])\n",
    "\n",
    "prameter = (train.T*train).I * (train.T*result.T)\n",
    "print(\"prameter: \", prameter.T)"
   ]
  },
  {
   "cell_type": "code",
   "execution_count": 99,
   "metadata": {},
   "outputs": [
    {
     "name": "stdout",
     "output_type": "stream",
     "text": [
      "testresult:  [[88.9375]]\n"
     ]
    }
   ],
   "source": [
    "testdata = np.mat([1,88,73,87,92])\n",
    "testresult = prameter.T*testdata.T\n",
    "print(\"testresult: \", testresult)"
   ]
  },
  {
   "cell_type": "markdown",
   "metadata": {},
   "source": [
    " - \t在L2正则化线性回归中，令正则化平衡系数λ为1，利用标准方程求出最优的L2正则化多元线性回归方程（系数精确到0.01），并比较其与（4）中得出的多元线性回归方程对数学分数的预测，哪个更好。"
   ]
  },
  {
   "cell_type": "code",
   "execution_count": null,
   "metadata": {},
   "outputs": [],
   "source": [
    "import numpy as np\n",
    "import matplotlib.pyplot as plt\n",
    "\n",
    "train = np.mat([[1,87,72,83,90],[1,89,76,88,93],[1,89,74,82,91],[1,92,71,91,89],[1,93,76,89,94]])\n",
    "result = np.mat([89,91,93,95,97])\n",
    "\n",
    "eye = np.eyes()\n",
    "prameter = (train.T*train + ).I * (train.T*result.T)\n",
    "print(\"prameter: \", prameter.T)"
   ]
  }
 ],
 "metadata": {
  "kernelspec": {
   "display_name": "Python 3",
   "language": "python",
   "name": "python3"
  },
  "language_info": {
   "codemirror_mode": {
    "name": "ipython",
    "version": 3
   },
   "file_extension": ".py",
   "mimetype": "text/x-python",
   "name": "python",
   "nbconvert_exporter": "python",
   "pygments_lexer": "ipython3",
   "version": "3.6.6"
  }
 },
 "nbformat": 4,
 "nbformat_minor": 2
}
