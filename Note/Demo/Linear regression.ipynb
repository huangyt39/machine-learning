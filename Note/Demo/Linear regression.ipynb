{
 "cells": [
  {
   "cell_type": "markdown",
   "metadata": {},
   "source": [
    "## Linear regression"
   ]
  },
  {
   "cell_type": "markdown",
   "metadata": {},
   "source": [
    "某班主任为了了解本班同学的数学和其他科目考试成绩间关系，在某次阶段性测试中，他在全班学生中随机抽取1个容量为5的样本进行分析。"
   ]
  },
  {
   "cell_type": "markdown",
   "metadata": {},
   "source": [
    "该样本中5位同学的数学和其他科目成绩对应如下表：\n",
    "\n",
    "\n",
    "学生编号\t|1\t| 2 | 3\t| 4\t| 5\n",
    "-- | -- | -- | -- | -- | -- |\n",
    "数学分数m\t| 89\t| 91\t| 93\t| 95 | 97\n",
    "物理分数p\t| 87\t| 89\t| 89\t| 92 | 93\n",
    "语文分数c\t| 72\t| 76\t| 74\t| 71 | 76\n",
    "英语分数e\t| 83\t| 88\t| 82\t| 91 | 89\n",
    "化学分数ch\t| 90\t| 93\t| 91\t| 89 | 94\n",
    "\n",
    "利用以上数据，建立m与其他变量的多元线性回归方程，并回答下列问题：\n"
   ]
  },
  {
   "cell_type": "markdown",
   "metadata": {},
   "source": [
    "- 在线性回归中，利用梯度下降法，令参数向量θ^0初始值全为0，学习率α为1，算出经过第一次迭代后的参数向量θ^1；"
   ]
  },
  {
   "cell_type": "markdown",
   "metadata": {},
   "source": [
    " - \t讨论（1）中所算出的θ^1是否可以使线性回归中的代价函数J(θ)下降，即J(θ^1 )<J(θ^0 )；"
   ]
  },
  {
   "cell_type": "markdown",
   "metadata": {},
   "source": [
    " - \t讨论是否可以选取更佳的学习率α，经过第一次迭代后，使代价函数J(θ)下降得更快；"
   ]
  },
  {
   "cell_type": "markdown",
   "metadata": {},
   "source": [
    " - （4）\t利用标准方程求出最优的多元线性回归方程（系数精确到0.01），并预测该班物理分数88、语文分数73、英语分数87、化学分数92同学的数学分数。"
   ]
  },
  {
   "cell_type": "markdown",
   "metadata": {},
   "source": [
    " - \t在L2正则化线性回归中，令正则化平衡系数λ为1，利用标准方程求出最优的L2正则化多元线性回归方程（系数精确到0.01），并比较其与（4）中得出的多元线性回归方程对数学分数的预测，哪个更好。"
   ]
  }
 ],
 "metadata": {
  "kernelspec": {
   "display_name": "Python 3",
   "language": "python",
   "name": "python3"
  },
  "language_info": {
   "codemirror_mode": {
    "name": "ipython",
    "version": 3
   },
   "file_extension": ".py",
   "mimetype": "text/x-python",
   "name": "python",
   "nbconvert_exporter": "python",
   "pygments_lexer": "ipython3",
   "version": "3.6.6"
  }
 },
 "nbformat": 4,
 "nbformat_minor": 2
}
