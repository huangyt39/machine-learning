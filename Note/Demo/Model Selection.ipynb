{
 "cells": [
  {
   "cell_type": "markdown",
   "metadata": {},
   "source": [
    "## Model Selection"
   ]
  },
  {
   "cell_type": "markdown",
   "metadata": {},
   "source": [
    "我们需要比较两个分类模型M_1和M_2。他们在10个二类（+或-）样本所组成的测试集上的分类结果如下表格中所示。假设我们更关心正样本是否能被正确检测。"
   ]
  },
  {
   "cell_type": "markdown",
   "metadata": {},
   "source": [
    "Instance\t|True Class\t|Scores from M_1\t|Scores from M_2\n",
    "--|--|--|--\n",
    "1|\t+|\t0.73|\t0.61\n",
    "2|\t+|\t0.69|\t0.03\n",
    "3|\t-|\t0.44|\t0.68\n",
    "4|\t-|\t0.55|\t0.31\n",
    "5|\t-|\t0.67|\t0.45\n",
    "6|\t+|\t0.47|\t0.09\n",
    "7|\t-|\t0.08|\t0.38\n",
    "8|\t-|\t0.15|\t0.05\n",
    "9|\t+|\t0.45|\t0.01\n",
    "10|\t-|\t0.35|\t0.04\n"
   ]
  },
  {
   "cell_type": "markdown",
   "metadata": {},
   "source": [
    " - \t对于分类模型M_1，取阈值为0.5，分别计算分类准确率（accuracy）、查准率（precision）、查全率（recall，又称真正例率，true positive rate，TPR）、假正例率（false positive rate，FPR）和F-measure；"
   ]
  },
  {
   "cell_type": "markdown",
   "metadata": {},
   "source": [
    " - \t对于分类模型M_2，取阈值为0.5，分别计算分类准确率（accuracy）、查准率（precision）、查全率（recall，又称真正例率，true positive rate，TPR）、假正例率（false positive rate，FPR）和F-measure；并与分类模型M_1比较，分析哪个分类模型在这个测试集上表现更好；"
   ]
  },
  {
   "cell_type": "markdown",
   "metadata": {},
   "source": [
    " - \t对于分类模型M_1，取阈值为0.2，分别计算分类准确率（accuracy）、查准率（precision）、查全率（recall，又称真正例率，true positive rate，TPR）、假正例率（false positive rate，FPR）和F-measure；并讨论当阈值为0.2或0.5时，哪个分类模型M_1的分类结果哪个更好；"
   ]
  },
  {
   "cell_type": "markdown",
   "metadata": {},
   "source": [
    " - 试讨论是否存在更好的阈值；若存在，请求出最优阈值并说明原因。"
   ]
  }
 ],
 "metadata": {
  "kernelspec": {
   "display_name": "Python 3",
   "language": "python",
   "name": "python3"
  },
  "language_info": {
   "codemirror_mode": {
    "name": "ipython",
    "version": 3
   },
   "file_extension": ".py",
   "mimetype": "text/x-python",
   "name": "python",
   "nbconvert_exporter": "python",
   "pygments_lexer": "ipython3",
   "version": "3.6.6"
  }
 },
 "nbformat": 4,
 "nbformat_minor": 2
}
