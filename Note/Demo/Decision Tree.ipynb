{
 "cells": [
  {
   "cell_type": "markdown",
   "metadata": {},
   "source": [
    "## Decision Tree"
   ]
  },
  {
   "cell_type": "markdown",
   "metadata": {},
   "source": [
    "考虑以下的二类训练样本集"
   ]
  },
  {
   "cell_type": "markdown",
   "metadata": {},
   "source": [
    "Instance|\tA|\tB|\tClass Label\n",
    "--|--|--|--\n",
    "1|\tT|\tF|\t+\n",
    "2|\tT|\tT|\t+\n",
    "3|\tT|\tT|\t+\n",
    "4|\tT|\tF|\t-\n",
    "5|\tT|\tT|\t+\n",
    "6|\tF|\tF|\t-\n",
    "7|\tF|\tF|\t-\n",
    "8|\tF|\tF|\t-\n",
    "9|\tT|\tT|\t-\n",
    "10|\tT|\tF|\t-\n"
   ]
  },
  {
   "cell_type": "markdown",
   "metadata": {},
   "source": [
    " - 计算以属性A或B为划分的信息熵（Entropy）增益，并说明决策树学习算法选择哪个属性进行划分；"
   ]
  },
  {
   "cell_type": "markdown",
   "metadata": {},
   "source": [
    " - 计算以属性A或B为划分的Gini增益，并说明决策树学习算法选择哪个属性进行划分；"
   ]
  },
  {
   "cell_type": "markdown",
   "metadata": {},
   "source": [
    " - 计算以属性A或B为划分的分类误差（Classification Error）增益，并说明决策树学习算法选择哪个属性进行划分；"
   ]
  },
  {
   "cell_type": "markdown",
   "metadata": {},
   "source": [
    " - 说明信息熵增益、Gini增益和分类误差增益对属性选择有不一样的偏好。"
   ]
  }
 ],
 "metadata": {
  "kernelspec": {
   "display_name": "Python 3",
   "language": "python",
   "name": "python3"
  },
  "language_info": {
   "codemirror_mode": {
    "name": "ipython",
    "version": 3
   },
   "file_extension": ".py",
   "mimetype": "text/x-python",
   "name": "python",
   "nbconvert_exporter": "python",
   "pygments_lexer": "ipython3",
   "version": "3.6.6"
  }
 },
 "nbformat": 4,
 "nbformat_minor": 2
}
