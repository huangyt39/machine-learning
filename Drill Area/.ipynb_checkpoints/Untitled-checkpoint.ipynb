{
 "cells": [
  {
   "cell_type": "code",
   "execution_count": null,
   "metadata": {},
   "outputs": [],
   "source": [
    "import xlrd\n",
    "import csv\n",
    "import numpy as np\n",
    "import matplotlib.pyplot as plt\n",
    "\n",
    "def showResultData():\n",
    "    l = []\n",
    "    with open('result.csv') as file:\n",
    "        lines = csv.reader(file)\n",
    "        for line in lines:\n",
    "            l.append(line)\n",
    "    A, B, C = [], [], []\n",
    "    for index in l[:]:\n",
    "        if index[2] == 'B':\n",
    "            B.append([int(float(index[0])), int(float(index[1]))])\n",
    "        if index[2] == 'C':\n",
    "            C.append([int(float(index[0])), int(float(index[1]))])\n",
    "        if index[2] == 'A':\n",
    "            A.append([int(float(index[0])), int(float(index[1]))])\n",
    "    plt.scatter([nums[0] for nums in A], [nums[1] for nums in A], c = 'darkolivegreen', s = 1, marker=',')\n",
    "    plt.scatter([nums[0] for nums in B], [nums[1] for nums in B], c = 'indianred', s = 1, marker=',')\n",
    "    plt.scatter([nums[0] for nums in C], [nums[1] for nums in C], c = 'royalblue', s = 1, marker=',')\n",
    "    \n",
    "    l = []\n",
    "    with open('drill.csv') as file:\n",
    "        lines = csv.reader(file)\n",
    "        for line in lines:\n",
    "            l.append(line)\n",
    "    A, B, C = [], [], []\n",
    "    for index in l[1:]:\n",
    "        if index[2] == 'B':\n",
    "            B.append([int(float(index[0])), int(float(index[1]))])\n",
    "        if index[2] == 'C':\n",
    "            C.append([int(float(index[0])), int(float(index[1]))])\n",
    "        if index[2] == 'A':\n",
    "            A.append([int(float(index[0])), int(float(index[1]))])\n",
    "\n",
    "    plt.scatter([nums[0] for nums in A], [nums[1] for nums in A], c = 'k', s = 2, marker='o')\n",
    "    plt.scatter([nums[0] for nums in B], [nums[1] for nums in B], c = 'k', s = 2, marker='o')\n",
    "    plt.scatter([nums[0] for nums in C], [nums[1] for nums in C], c = 'k', s = 2, marker='o')\n",
    "\n",
    "    l1 = plt.scatter([nums[0] for nums in A], [nums[1] for nums in A], c = 'g', s = 1, marker='o')\n",
    "    l2 = plt.scatter([nums[0] for nums in B], [nums[1] for nums in B], c = 'r', s = 1, marker='o')\n",
    "    l3 = plt.scatter([nums[0] for nums in C], [nums[1] for nums in C], c = 'b', s = 1, marker='o')\n",
    " \n",
    "    plt.legend(handles =[l1,l2,l3] , labels=['A','B','C'], loc = 'best')\n",
    "\n",
    "    plt.show()"
   ]
  },
  {
   "cell_type": "code",
   "execution_count": null,
   "metadata": {},
   "outputs": [],
   "source": []
  }
 ],
 "metadata": {
  "kernelspec": {
   "display_name": "Python 3",
   "language": "python",
   "name": "python3"
  }
 },
 "nbformat": 4,
 "nbformat_minor": 2
}
